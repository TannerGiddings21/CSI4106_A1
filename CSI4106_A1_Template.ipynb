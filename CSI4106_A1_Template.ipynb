{
 "cells": [
  {
   "cell_type": "markdown",
   "metadata": {
    "id": "SPeulvp-meob"
   },
   "source": [
    "**ASSIGNMENT 1 - EMPIRICAL STUDY OF KNAPSACK PROBLEM**"
   ]
  },
  {
   "cell_type": "markdown",
   "metadata": {
    "id": "f2Eeke4Z_EkW"
   },
   "source": [
    "**1. Group Description**\n",
    "\n",
    "Group Number: 1 \\\\\n",
    "Member Names: Tanner Giddings / Tamara Micic \\\\\n",
    "Member Student Numbers: 300172545 / \\\\"
   ]
  },
  {
   "cell_type": "markdown",
   "metadata": {
    "id": "Yq6OGiMX_da0"
   },
   "source": [
    "**2. Knapsack Problem**\n",
    "\n",
    "Given a set of objects and a 'bag', we want to be able to maximize the value of the objects that are put into the bag while being constrained by the size of the bag."
   ]
  },
  {
   "cell_type": "markdown",
   "metadata": {
    "id": "C8vwHE0G_iOG"
   },
   "source": [
    "**3. Dataset**\n",
    "\n",
    "#https://www.kaggle.com/datasets/warcoder/knapsack-problem?resource=download\n",
    "Dataset containing multiple different combinations of 'bags', objects and values to enable the simulation of multiple different knapsack problems."
   ]
  },
  {
   "cell_type": "markdown",
   "metadata": {
    "id": "OZTWy1qN2BzY"
   },
   "source": [
    "**Import important libraries**"
   ]
  },
  {
   "cell_type": "code",
   "execution_count": 2,
   "metadata": {
    "id": "GmP1buROhaOx"
   },
   "outputs": [],
   "source": [
    "import pandas as pd\n",
    "import itertools\n",
    "import numpy as np"
   ]
  },
  {
   "cell_type": "markdown",
   "metadata": {
    "id": "wNJyoeCz00Kr"
   },
   "source": [
    "**Read Dataset**\n",
    "\n",
    "As outlined in the project description, it should be possible for the correctors to execute your notebook without requiring any downloads.\n",
    "\n",
    "To facilitate access to the dataset without the need for downloads, you can upload it to a public GitHub repository and provide a link to the raw version of the dataset.\n",
    "\n",
    "The link to the raw version is as follows:\n",
    "*https://raw.githubusercontent.com/GITHUB_USERNAME/REPOSITORY_NAME/main/DATASETNAME.csv*\n",
    "\n",
    "For example:\n",
    "\n",
    "https://raw.githubusercontent.com/baharin/KnapsackProblem/main/knapsack_5_items.csv\n",
    "\n",
    "Now provide the link to YOUR dataset and read the dataset using pandas:"
   ]
  },
  {
   "cell_type": "code",
   "execution_count": 3,
   "metadata": {
    "id": "BrhpM-HwhaOy"
   },
   "outputs": [],
   "source": [
    "url = \"https://raw.githubusercontent.com/TannerGiddings21/CSI4106_A1/main/knapsack_5_items.csv?token=GHSAT0AAAAAACHXTHO7YBX5GNQVDSHM6DOIZIIPPKQ\"\n",
    "\n",
    "dataset = pd.read_csv(url)"
   ]
  },
  {
   "cell_type": "markdown",
   "metadata": {
    "id": "4Drc71BY2a7w"
   },
   "source": [
    "Let's see what are the columns of the dataset? :"
   ]
  },
  {
   "cell_type": "code",
   "execution_count": 4,
   "metadata": {
    "colab": {
     "base_uri": "https://localhost:8080/"
    },
    "id": "pGxZXmhNhaOz",
    "outputId": "09bb8058-957c-4aae-fe50-de83e5a3b424"
   },
   "outputs": [
    {
     "data": {
      "text/plain": [
       "Index(['Weights', 'Prices', 'Capacity', 'Best picks', 'Best price'], dtype='object')"
      ]
     },
     "execution_count": 4,
     "metadata": {},
     "output_type": "execute_result"
    }
   ],
   "source": [
    "dataset.columns"
   ]
  },
  {
   "cell_type": "markdown",
   "metadata": {
    "id": "aNZaqcCT2w-T"
   },
   "source": [
    "As we expected, we have columns for weights, costs, capacity, best picks and best price for all the instances."
   ]
  },
  {
   "cell_type": "markdown",
   "metadata": {
    "id": "jkokOHRj2kgZ"
   },
   "source": [
    "Now let's see the first 10 entries (rows):"
   ]
  },
  {
   "cell_type": "code",
   "execution_count": 5,
   "metadata": {
    "colab": {
     "base_uri": "https://localhost:8080/",
     "height": 363
    },
    "id": "0xqfPrBEhaOz",
    "outputId": "4376de03-1214-492f-ba5e-304f9f0f1129"
   },
   "outputs": [
    {
     "data": {
      "text/html": [
       "<div>\n",
       "<style scoped>\n",
       "    .dataframe tbody tr th:only-of-type {\n",
       "        vertical-align: middle;\n",
       "    }\n",
       "\n",
       "    .dataframe tbody tr th {\n",
       "        vertical-align: top;\n",
       "    }\n",
       "\n",
       "    .dataframe thead th {\n",
       "        text-align: right;\n",
       "    }\n",
       "</style>\n",
       "<table border=\"1\" class=\"dataframe\">\n",
       "  <thead>\n",
       "    <tr style=\"text-align: right;\">\n",
       "      <th></th>\n",
       "      <th>Weights</th>\n",
       "      <th>Prices</th>\n",
       "      <th>Capacity</th>\n",
       "      <th>Best picks</th>\n",
       "      <th>Best price</th>\n",
       "    </tr>\n",
       "  </thead>\n",
       "  <tbody>\n",
       "    <tr>\n",
       "      <th>0</th>\n",
       "      <td>[46 40 42 38 10]</td>\n",
       "      <td>[12 19 19 15  8]</td>\n",
       "      <td>40</td>\n",
       "      <td>[0. 1. 0. 0. 0.]</td>\n",
       "      <td>19.0</td>\n",
       "    </tr>\n",
       "    <tr>\n",
       "      <th>1</th>\n",
       "      <td>[11 31  4  6  7]</td>\n",
       "      <td>[ 2  8 18 16  3]</td>\n",
       "      <td>64</td>\n",
       "      <td>[1. 1. 1. 1. 1.]</td>\n",
       "      <td>47.0</td>\n",
       "    </tr>\n",
       "    <tr>\n",
       "      <th>2</th>\n",
       "      <td>[32 49 27 37 24]</td>\n",
       "      <td>[19 16 16  4  1]</td>\n",
       "      <td>87</td>\n",
       "      <td>[1. 0. 1. 0. 1.]</td>\n",
       "      <td>36.0</td>\n",
       "    </tr>\n",
       "    <tr>\n",
       "      <th>3</th>\n",
       "      <td>[20 35 22 23 16]</td>\n",
       "      <td>[19 17 19  9  1]</td>\n",
       "      <td>21</td>\n",
       "      <td>[1. 0. 0. 0. 0.]</td>\n",
       "      <td>19.0</td>\n",
       "    </tr>\n",
       "    <tr>\n",
       "      <th>4</th>\n",
       "      <td>[ 7 12 19 13 20]</td>\n",
       "      <td>[10 11 18 15  5]</td>\n",
       "      <td>50</td>\n",
       "      <td>[0. 1. 1. 1. 0.]</td>\n",
       "      <td>44.0</td>\n",
       "    </tr>\n",
       "    <tr>\n",
       "      <th>5</th>\n",
       "      <td>[27 10 25 25  7]</td>\n",
       "      <td>[13 19  7 16  3]</td>\n",
       "      <td>66</td>\n",
       "      <td>[1. 1. 0. 1. 0.]</td>\n",
       "      <td>48.0</td>\n",
       "    </tr>\n",
       "    <tr>\n",
       "      <th>6</th>\n",
       "      <td>[21  2 33 45 26]</td>\n",
       "      <td>[ 1 14 10  6 13]</td>\n",
       "      <td>80</td>\n",
       "      <td>[0. 1. 1. 0. 1.]</td>\n",
       "      <td>37.0</td>\n",
       "    </tr>\n",
       "    <tr>\n",
       "      <th>7</th>\n",
       "      <td>[37 27 39 14 25]</td>\n",
       "      <td>[18  7 15  4 13]</td>\n",
       "      <td>35</td>\n",
       "      <td>[0. 0. 0. 0. 1.]</td>\n",
       "      <td>13.0</td>\n",
       "    </tr>\n",
       "    <tr>\n",
       "      <th>8</th>\n",
       "      <td>[ 1 48  4 23 39]</td>\n",
       "      <td>[ 9  4 10 16 12]</td>\n",
       "      <td>51</td>\n",
       "      <td>[1. 0. 1. 1. 0.]</td>\n",
       "      <td>35.0</td>\n",
       "    </tr>\n",
       "    <tr>\n",
       "      <th>9</th>\n",
       "      <td>[ 4  3 22  9 32]</td>\n",
       "      <td>[14  6  3 17  8]</td>\n",
       "      <td>53</td>\n",
       "      <td>[1. 1. 0. 1. 1.]</td>\n",
       "      <td>45.0</td>\n",
       "    </tr>\n",
       "  </tbody>\n",
       "</table>\n",
       "</div>"
      ],
      "text/plain": [
       "            Weights            Prices  Capacity        Best picks  Best price\n",
       "0  [46 40 42 38 10]  [12 19 19 15  8]        40  [0. 1. 0. 0. 0.]        19.0\n",
       "1  [11 31  4  6  7]  [ 2  8 18 16  3]        64  [1. 1. 1. 1. 1.]        47.0\n",
       "2  [32 49 27 37 24]  [19 16 16  4  1]        87  [1. 0. 1. 0. 1.]        36.0\n",
       "3  [20 35 22 23 16]  [19 17 19  9  1]        21  [1. 0. 0. 0. 0.]        19.0\n",
       "4  [ 7 12 19 13 20]  [10 11 18 15  5]        50  [0. 1. 1. 1. 0.]        44.0\n",
       "5  [27 10 25 25  7]  [13 19  7 16  3]        66  [1. 1. 0. 1. 0.]        48.0\n",
       "6  [21  2 33 45 26]  [ 1 14 10  6 13]        80  [0. 1. 1. 0. 1.]        37.0\n",
       "7  [37 27 39 14 25]  [18  7 15  4 13]        35  [0. 0. 0. 0. 1.]        13.0\n",
       "8  [ 1 48  4 23 39]  [ 9  4 10 16 12]        51  [1. 0. 1. 1. 0.]        35.0\n",
       "9  [ 4  3 22  9 32]  [14  6  3 17  8]        53  [1. 1. 0. 1. 1.]        45.0"
      ]
     },
     "execution_count": 5,
     "metadata": {},
     "output_type": "execute_result"
    }
   ],
   "source": [
    "dataset.head(10)"
   ]
  },
  {
   "cell_type": "markdown",
   "metadata": {
    "id": "1dq9VpZh2r2A"
   },
   "source": [
    "**Preprocessing Step**\n",
    "\n",
    "Typically, the initial step in any project that involves reading and handling data is data preprocessing and cleansing.\n",
    "\n",
    "In our dataset, we expect the entries in the \"Weights,\" \"Prices,\" and \"Best Picks\" columns to be in the form of arrays of floats or integers, like this: [45, 40, 42, 38, 10]\n",
    "\n",
    "However, when you read each entry using pandas, they will be in a form of a string: \"[45 40 42 38 10]\"\n",
    "\n",
    "So we need to convert these strings into \"arrays of floats or integers.\" You can utilize the function provided below for this purpose:\n"
   ]
  },
  {
   "cell_type": "code",
   "execution_count": 6,
   "metadata": {
    "id": "BmUtgrBchaOz"
   },
   "outputs": [],
   "source": [
    "def string_to_list(string):\n",
    "    string_list = string.strip('[]').split()\n",
    "    float_list = [float(element) for element in string_list]\n",
    "    return float_list"
   ]
  },
  {
   "cell_type": "markdown",
   "metadata": {
    "id": "CP1nkMb27A4n"
   },
   "source": [
    "Furthermore, it's possible that certain rows in the dataset contain empty values in specific columns. We also aim to eliminate these rows as they do not provide any useful information. We use dropna() function to do so:"
   ]
  },
  {
   "cell_type": "code",
   "execution_count": 7,
   "metadata": {
    "id": "LT_iYgxhhaO0"
   },
   "outputs": [],
   "source": [
    "#Ignore the warning messages.\n",
    "\n",
    "dataset = dataset.dropna()\n",
    "\n",
    "dataset.Weights = dataset.Weights.apply(lambda x : string_to_list(x))\n",
    "dataset.Prices = dataset.Prices.apply(lambda x : string_to_list(x))\n",
    "dataset['Best picks'] = dataset['Best picks'].apply(lambda x : string_to_list(x))"
   ]
  },
  {
   "cell_type": "markdown",
   "metadata": {
    "id": "61go4NeA7gZU"
   },
   "source": [
    "Now it's time to implement the search algorithms. For each algorithm, a template is provided to you. You can modify this template if you want. But first you should try to go look at all the parameters used, as they are all important. You can also define any number of auxiliary functions you want.\n"
   ]
  },
  {
   "cell_type": "markdown",
   "metadata": {
    "id": "0ER3-7di7ufy"
   },
   "source": [
    "**4. Generate and Test**\n",
    "\n",
    "Give a description... Also, make sure that you put comments using your own words in the code to show that you understand the code that you are submitting."
   ]
  },
  {
   "cell_type": "code",
   "execution_count": 202,
   "metadata": {
    "id": "FqN5dVe7haO0"
   },
   "outputs": [],
   "source": [
    "import random\n",
    "def gen_and_test(data):\n",
    "    \"\"\"\n",
    "    Generates a random combination (Probability of getting it right is 2 ** (-5)).\n",
    "    @param data: Row containing information about a knapsack problem\n",
    "    @return best_solution_price: Price of the best solution found by this algorithm\n",
    "    @return best_solution: Best combination of objects found by this solution\n",
    "    \"\"\"\n",
    "    capacity = 0\n",
    "    best_solution = []\n",
    "    best_solution_price = 0\n",
    "    weights = data['Weights']\n",
    "    prices = data['Prices']\n",
    "    for i in range(5):\n",
    "        new_elem = random.randint(0,1)\n",
    "        best_solution.append(new_elem)\n",
    "        best_solution_price += new_elem * prices[i]\n",
    "        capacity += new_elem * weights[i]\n",
    "    if capacity > data['Capacity']:\n",
    "        best_solution_price = 0\n",
    "    return best_solution_price, best_solution\n",
    "\n"
   ]
  },
  {
   "cell_type": "code",
   "execution_count": 203,
   "metadata": {
    "id": "xQyI_WRShaO0"
   },
   "outputs": [],
   "source": [
    "solutions = []\n",
    "for _, row in dataset.iterrows():\n",
    "    target = row['Best price']\n",
    "    solution, indexes = gen_and_test(row)\n",
    "    solutions.append(1 if target == solution else 0)"
   ]
  },
  {
   "cell_type": "code",
   "execution_count": 204,
   "metadata": {
    "id": "yodeAYV3haO0"
   },
   "outputs": [
    {
     "name": "stdout",
     "output_type": "stream",
     "text": [
      "Accuracy of best prices found is 0.03269561696527989\n"
     ]
    }
   ],
   "source": [
    "# Accuracy\n",
    "print('Accuracy of best prices found is', np.mean(solutions))"
   ]
  },
  {
   "cell_type": "markdown",
   "metadata": {
    "id": "sgYGIJMd-atd"
   },
   "source": [
    "**Your Analysis:**"
   ]
  },
  {
   "cell_type": "code",
   "execution_count": 214,
   "metadata": {},
   "outputs": [
    {
     "name": "stderr",
     "output_type": "stream",
     "text": [
      "Loading...: 100%|█████████████████████████████| 100/100 [00:30<00:00,  3.28it/s]\n"
     ]
    },
    {
     "data": {
      "image/png": "[encoded data removed]",
      "text/plain": [
       "<Figure size 432x288 with 1 Axes>"
      ]
     },
     "metadata": {
      "needs_background": "light"
     },
     "output_type": "display_data"
    }
   ],
   "source": [
    "\"\"\"\n",
    "Only 100 experiments were generated.\n",
    "\"\"\"\n",
    "from tqdm import tqdm\n",
    "mean_accuracy_values = []\n",
    "accuracy_values = []\n",
    "for i in tqdm(range(100), desc=\"Loading...\"):\n",
    "    solutions = []\n",
    "    for _, row in dataset.iterrows():\n",
    "        target = row['Best price']\n",
    "        solution, indexes = gen_and_test(row)\n",
    "        solutions.append(1 if target == solution else 0)\n",
    "    accuracy_values.append(np.mean(solutions))\n",
    "    mean_accuracy_values.append(np.mean(accuracy_values))\n",
    "plt.plot(range(len(mean_accuracy_values)), mean_accuracy_values, color = 'red')\n",
    "plt.axhline(y = (2 ** (-5)), color = 'black', linestyle = '-')\n",
    "plt.show()"
   ]
  },
  {
   "cell_type": "code",
   "execution_count": 224,
   "metadata": {},
   "outputs": [
    {
     "name": "stdout",
     "output_type": "stream",
     "text": [
      "Difference between the experimental accuracy and the expected accuracy:  0.0021298967506832717\n",
      "Mean accuracy: 0.03337989675068327\n"
     ]
    }
   ],
   "source": [
    "print(\"Difference between the experimental accuracy and the expected accuracy: \", mean_accuracy_values[-1] - 2 ** (-5))\n",
    "print(\"Mean accuracy:\", mean_accuracy_values[-1])"
   ]
  },
  {
   "cell_type": "markdown",
   "metadata": {},
   "source": [
    "In the graph above, the red line shows the cumulative accuracy of all the previous experiments, to see what the accuracy converges to. The black line shows the expected accuracy of 2 ** (-5). In my trials, it was outperforming the model by 0.2% (3.338% vs 3.125%). This is not that much better though and randomly guessing a combination is not a reliable algorithm for the knapsack problem."
   ]
  },
  {
   "cell_type": "markdown",
   "metadata": {
    "id": "5rQYdUQx-dGi"
   },
   "source": [
    "------------------------------------------------------------------------------------------------"
   ]
  },
  {
   "cell_type": "markdown",
   "metadata": {
    "id": "z8_ipXOGhaO1"
   },
   "source": [
    "**5. Greedy Search**\n",
    "\n",
    "Give a description... Also, make sure that you put comments using your own words in the code to show that you understand the code that you are submitting."
   ]
  },
  {
   "cell_type": "code",
   "execution_count": 209,
   "metadata": {
    "id": "bAfwGLDkhaO2"
   },
   "outputs": [],
   "source": [
    "def find_max(D):\n",
    "    \"\"\"\n",
    "    Finds the maximum weight in a list and returns the index\n",
    "    @param D: Dictionary containing indices and price per weight\n",
    "    @return min_index: Maximum index\n",
    "    \"\"\"\n",
    "    max_index = -1\n",
    "    for key in D.keys():\n",
    "        cur_val = D[key]\n",
    "        if max_index == -1:\n",
    "            max_val = cur_val\n",
    "            max_index = key\n",
    "        elif cur_val > max_val:\n",
    "            max_val = cur_val\n",
    "            max_index = key\n",
    "    if max_index == -1:\n",
    "        raise Exception(\"NO\")\n",
    "    return max_index\n",
    "\n",
    "def greedy(data):\n",
    "    \"\"\"\n",
    "    Implements the greedy knapsack algorithm\n",
    "    @param data: information for the knapsack problem\n",
    "    @return best_solution_price: price of the best solution\n",
    "    @return best_solution: Combination which maximizes the price \n",
    "    \"\"\"\n",
    "    weights = data['Weights']\n",
    "    prices = data['Prices']\n",
    "    capacity = data['Capacity']\n",
    "    price_per_weight = {}\n",
    "    for i in range(len(weights)):\n",
    "        price_per_weight[i] = prices[i] / weights[i]\n",
    "    current_capacity = 0\n",
    "    best_solution = [0.] * len(weights)\n",
    "    best_solution_price = 0\n",
    "    while current_capacity <= capacity:\n",
    "        try:\n",
    "            max_index = find_max(price_per_weight)\n",
    "        except:\n",
    "            break\n",
    "        price_per_weight.pop(max_index)\n",
    "        if current_capacity + weights[max_index] <= capacity:\n",
    "            best_solution[max_index] = 1.\n",
    "            best_solution_price += prices[max_index]\n",
    "            current_capacity += weights[max_index]\n",
    "    return best_solution_price, best_solution"
   ]
  },
  {
   "cell_type": "code",
   "execution_count": 210,
   "metadata": {
    "id": "QeS54aqAhwhU"
   },
   "outputs": [],
   "source": [
    "solutions_greedy = []\n",
    "for _, row in dataset.iterrows():\n",
    "    target = row['Best price']\n",
    "    solution, indexes = greedy(row)\n",
    "    solutions_greedy.append(1 if target == solution else 0)\n"
   ]
  },
  {
   "cell_type": "code",
   "execution_count": 211,
   "metadata": {
    "id": "xWqCDMs-h0SX"
   },
   "outputs": [
    {
     "name": "stdout",
     "output_type": "stream",
     "text": [
      "Greedy Accuracy is 0.8341937443061038\n"
     ]
    }
   ],
   "source": [
    "print(\"Greedy Accuracy is\", np.mean(solutions_greedy))"
   ]
  },
  {
   "cell_type": "markdown",
   "metadata": {
    "id": "0DKep6e5-nuz"
   },
   "source": [
    "**Your Analysis:**"
   ]
  },
  {
   "cell_type": "markdown",
   "metadata": {},
   "source": [
    "Since this greedy algorithm is deterministic, it will always return the same values. So calculating a mean like for the previous algorithm would yield a straight line at 0.8341937443061038. Since this model picks the most price dense objects, this model fails when the solution requires picking objects that do not maximize price density in order to completely fill the capacity for the problem."
   ]
  },
  {
   "cell_type": "markdown",
   "metadata": {
    "id": "XGBWQqlK-lra"
   },
   "source": [
    "------------------------------------------------------------------------------------------------"
   ]
  },
  {
   "cell_type": "markdown",
   "metadata": {
    "id": "PtDW2ja3R93S"
   },
   "source": [
    "**6. Simulated Annealing**\n",
    "\n",
    "Give a description... Also, make sure that you put comments using your own words in the code to show that you understand the code that you are submitting.\n"
   ]
  },
  {
   "cell_type": "code",
   "execution_count": 225,
   "metadata": {
    "id": "7rFhuXedSF_3"
   },
   "outputs": [],
   "source": [
    "import random\n",
    "import math\n",
    "import matplotlib.pyplot as plt\n",
    "\n",
    "def accept(T, E, capacity, current_capacity):\n",
    "    \"\"\"\n",
    "    Acceptance function for simulated annealing. Found in slides for week 3 in the CSI4106 course notes.\n",
    "    Inverted the entropy since we are trying to maximize the price\n",
    "    @param T: Temperature\n",
    "    @param E: Change in entropy\n",
    "    @return: Boolean value to either accept or reject the new solution\n",
    "    \"\"\"\n",
    "    if current_capacity > capacity:\n",
    "        return False\n",
    "    elif E < 0:\n",
    "        return True\n",
    "    else:\n",
    "        r = random.uniform(0, 1)\n",
    "        return r < math.exp(-E/T)\n",
    "    \n",
    "def generate_new_solution(current_solution):\n",
    "    \"\"\"\n",
    "    Function to generate a new solution which is similar to the new solution\n",
    "    @param current_solution: Current solution that the new solution should ressemble\n",
    "    @return new_solution: new solution that is similar to current_solution\n",
    "    \"\"\"\n",
    "    random_index = random.randint(0, len(current_solution) - 1)\n",
    "    new_solution = current_solution.copy()\n",
    "    new_solution[random_index] = float(not new_solution[random_index])\n",
    "    return new_solution\n",
    "\n",
    "def calc_price(prices, combination):\n",
    "    \"\"\"\n",
    "    Calculates the price for a certain combination\n",
    "    @param prices: Prices for the current knapsack model\n",
    "    @param combination: Current knapsack solution\n",
    "    @return price: Price of the current combination\n",
    "    \"\"\"\n",
    "    price = 0\n",
    "    for i in range(len(combination)):\n",
    "        price += prices[i] * combination[i]\n",
    "    return price\n",
    "\n",
    "def calc_weight(weights, combination):\n",
    "    \"\"\"\n",
    "    Calculates the weight for a certain combination\n",
    "    @param weights: Weights for the current knapsack model\n",
    "    @param combination: Current knapsack solution\n",
    "    @return weight: Weight of the current combination\n",
    "    \"\"\"\n",
    "    weight = 0\n",
    "    for i in range(len(combination)):\n",
    "        weight += weights[i] * combination[i]\n",
    "    return weight\n",
    "\n",
    "def simulated_annealing(data, N, initial_temperature, cooling_rate):\n",
    "    \"\"\"\n",
    "    Runs the simulated annealing algorithm. Found in slides for week 3 in the CSI4106 course notes.\n",
    "    @param data: Information for the current knapsack problem\n",
    "    @param N: Number of iterations\n",
    "    @param initial_temperature: \n",
    "    \"\"\"\n",
    "    weights = data['Weights']\n",
    "    prices = data['Prices']\n",
    "    capacity = data['Capacity']\n",
    "    best_solution = [0.] * len(weights)\n",
    "    best_solution_price = calc_price(prices, best_solution)\n",
    "    T = initial_temperature\n",
    "    \n",
    "    for i in range(N):\n",
    "        new_solution = generate_new_solution(best_solution)\n",
    "        new_price = calc_price(prices, new_solution)\n",
    "        D_E = best_solution_price - new_price\n",
    "        try:\n",
    "            result = accept(T, D_E, capacity, calc_weight(weights, new_solution))\n",
    "        except:\n",
    "            break\n",
    "        if result:\n",
    "            best_solution = new_solution\n",
    "            best_solution_price = new_price\n",
    "        T *= cooling_rate\n",
    "    \n",
    "    return best_solution_price, best_solution"
   ]
  },
  {
   "cell_type": "code",
   "execution_count": 149,
   "metadata": {
    "id": "mAWQLNsESNIZ"
   },
   "outputs": [],
   "source": [
    "solutions_sa = []\n",
    "for _, row in dataset.iterrows():\n",
    "    target = row['Best price']\n",
    "    solution, indexes = simulated_annealing(row, N = 100, initial_temperature=1, cooling_rate=0.95)\n",
    "    solutions_sa.append(1 if target == solution else 0)\n"
   ]
  },
  {
   "cell_type": "code",
   "execution_count": 150,
   "metadata": {
    "id": "jUdWEABkhkih"
   },
   "outputs": [
    {
     "name": "stdout",
     "output_type": "stream",
     "text": [
      "Simulated Annealing Accuracy is 0.451260249013058\n"
     ]
    }
   ],
   "source": [
    "print(\"Simulated Annealing Accuracy is\", np.mean(solutions_sa))"
   ]
  },
  {
   "cell_type": "markdown",
   "metadata": {
    "id": "PvvpYOOr-qqr"
   },
   "source": [
    "**Your Analysis:**"
   ]
  },
  {
   "cell_type": "markdown",
   "metadata": {},
   "source": [
    "In this model, we have three parameters that we need to modify, so we will keep two of them fixed and change one for each of the tests, to see possible interactions and get the parameters which maximize the accuracy of this model."
   ]
  },
  {
   "cell_type": "code",
   "execution_count": null,
   "metadata": {},
   "outputs": [],
   "source": []
  },
  {
   "cell_type": "markdown",
   "metadata": {
    "id": "n0QXt7Ys-rCc"
   },
   "source": [
    "------------------------------------------------------------------------------------------------"
   ]
  },
  {
   "cell_type": "markdown",
   "metadata": {
    "id": "RHYjBUvVhtGV"
   },
   "source": [
    "**7. Genetic Algorithm**\n",
    "\n",
    "Give a description... Also, make sure that you put comments using your own words in the code to show that you understand the code that you are submitting."
   ]
  },
  {
   "cell_type": "code",
   "execution_count": 178,
   "metadata": {
    "id": "5kGKKUN8iP30"
   },
   "outputs": [],
   "source": [
    "import random\n",
    "\n",
    "def sum_indices(L, indices):\n",
    "    \"\"\"\n",
    "    Sums the list based on the indices in a set\n",
    "    @param L: List of values\n",
    "    @param indices: List of indices that are present in the set\n",
    "    @return somme: Sum of the elements in L present in indices\n",
    "    \"\"\"\n",
    "    somme = 0\n",
    "    for i in range(len(L)):\n",
    "        somme += L[i] * indices[i]\n",
    "    return somme\n",
    "\n",
    "def calculate_fitness(ind, prices, weights, capacity):\n",
    "    \"\"\"\n",
    "    Calculates the fitness of a combination\n",
    "    @param ind: Indices of the elements present in the set\n",
    "    @param prices: Prices of the elements in the set\n",
    "    @param weights: Prices of the weights in the set\n",
    "    @param capacity: Capacity of the knapsack problem\n",
    "    @return: Fitness of the current combination\n",
    "    \"\"\"\n",
    "    if sum_indices(weights, ind) > capacity:\n",
    "        return 0\n",
    "    else:\n",
    "        return sum_indices(prices, ind)\n",
    "\n",
    "def crossover(parent1, parent2, cross_rate):\n",
    "    \"\"\"\n",
    "    'Crosses' over indices between parent1 and parent2\n",
    "    @param parent1: a possible solution for knapsack problem\n",
    "    @param parent2: a possible solution for knapsack problem\n",
    "    @param cross_rate: probability that each index is switched for each parent\n",
    "    @return child1: parent1 with cross-over\n",
    "    @return child2: parent2 with cross-over\n",
    "    \"\"\"\n",
    "    child1 = parent1.copy()\n",
    "    child2 = parent2.copy()\n",
    "    for i in range(len(parent1)):\n",
    "        if rand.uniform(0,1) > cross_rate:\n",
    "            child1[i], child2[i] = child2[i], child1[i]\n",
    "    return child1, child2\n",
    "\n",
    "def mutation(child, mut_rate):\n",
    "    \"\"\"\n",
    "    Adds a possible mutation to each element of the solution\n",
    "    @param child: Current combination\n",
    "    @param mut_rate: Chance of a mutation\n",
    "    @return child: Child with mutation\n",
    "    \"\"\"\n",
    "    for i in range(len(child)):\n",
    "        if rand.uniform(0,1) > mut_rate:\n",
    "            child[i] = float(not child[i])\n",
    "    return child\n",
    "\n",
    "def run_tournament(competitors):\n",
    "    \n",
    "\n",
    "def genetic_algorithm(data, population_size, num_generations, mut_rate, cross_rate, tournament_size):\n",
    "    population = []\n",
    "    for i in range(population_size):\n",
    "        new_comb = []\n",
    "        for j in range(5):\n",
    "            new_comb.append(random.randint(0,1))\n",
    "        population.append(new_comb)\n",
    "    \n",
    "    \n",
    "\n",
    "    return best_solution_price, best_solution"
   ]
  },
  {
   "cell_type": "code",
   "execution_count": null,
   "metadata": {
    "id": "5b4hBtUijZzg"
   },
   "outputs": [],
   "source": [
    "solutions_ga = []\n",
    "for _, row in dataset.iterrows():\n",
    "    target = row['Best price']\n",
    "    solution, indexes = genetic_algorithm(row, population_size = 50, num_generations = 50, mut_rate = 0.1, cross_rate = 0.7, tournament_size = 5)\n",
    "    solutions_ga.append(1 if target == solution else 0)\n"
   ]
  },
  {
   "cell_type": "code",
   "execution_count": null,
   "metadata": {
    "id": "hJ3ceIHSs-W-"
   },
   "outputs": [],
   "source": [
    "print(\"Genetic Algorithm Accuracy is\", np.mean(solutions_ga))"
   ]
  },
  {
   "cell_type": "markdown",
   "metadata": {
    "id": "5yn8KLah-xGF"
   },
   "source": [
    "**Your Analysis:**"
   ]
  },
  {
   "cell_type": "markdown",
   "metadata": {
    "id": "ekb0LOgF-xUN"
   },
   "source": [
    "------------------------------------------------------------------------------------------------"
   ]
  },
  {
   "cell_type": "markdown",
   "metadata": {
    "id": "NdO_H-4t-6mg"
   },
   "source": [
    "**8. Comparative Study**\n",
    "\n",
    "description  +  tables/figures"
   ]
  },
  {
   "cell_type": "markdown",
   "metadata": {
    "id": "4Ypp7TpkAIUe"
   },
   "source": [
    "--------------------------------------------------------------------------\n"
   ]
  },
  {
   "cell_type": "markdown",
   "metadata": {
    "id": "8Ikmq-si_23Y"
   },
   "source": [
    "**9. Conclusion**\n",
    "\n",
    "Comment on the empirical study, its results, and give ideas for future work."
   ]
  },
  {
   "cell_type": "markdown",
   "metadata": {
    "id": "41s8gvCNABDy"
   },
   "source": [
    "--------------------------------------------------------------------------\n"
   ]
  },
  {
   "cell_type": "markdown",
   "metadata": {
    "id": "PtbOgI1q_9a0"
   },
   "source": [
    "**10 References**\n",
    "\n",
    "Make sure you provide references to ALL sources used (articles, code, algorithms)."
   ]
  },
  {
   "cell_type": "markdown",
   "metadata": {
    "id": "zF9cuDJqF75q"
   },
   "source": [
    "**Hint:** To share a link to your colab notebook, click on \"share\" on the top right. Then, under *General access* , change *Restricted* to \"Anyone with the link\"."
   ]
  }
 ],
 "metadata": {
  "colab": {
   "provenance": []
  },
  "kernelspec": {
   "display_name": "Python 3 (ipykernel)",
   "language": "python",
   "name": "python3"
  },
  "language_info": {
   "codemirror_mode": {
    "name": "ipython",
    "version": 3
   },
   "file_extension": ".py",
   "mimetype": "text/x-python",
   "name": "python",
   "nbconvert_exporter": "python",
   "pygments_lexer": "ipython3",
   "version": "3.9.12"
  }
 },
 "nbformat": 4,
 "nbformat_minor": 1
}
